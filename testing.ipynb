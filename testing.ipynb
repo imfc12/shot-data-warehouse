{
 "cells": [
  {
   "cell_type": "code",
   "execution_count": 1,
   "metadata": {},
   "outputs": [],
   "source": [
    "from nba_api.stats.endpoints.shotchartdetail import ShotChartDetail\n",
    "from nba_api.stats.library.parameters import Month, Period, ContextMeasureDetailed\n",
    "import json"
   ]
  },
  {
   "cell_type": "code",
   "execution_count": 4,
   "metadata": {},
   "outputs": [
    {
     "name": "stdout",
     "output_type": "stream",
     "text": [
      "{'GRID_TYPE': 'Shot Chart Detail', 'GAME_ID': '0022400343', 'GAME_EVENT_ID': 631, 'PLAYER_ID': 1628973, 'PLAYER_NAME': 'Jalen Brunson', 'TEAM_ID': 1610612752, 'TEAM_NAME': 'New York Knicks', 'PERIOD': 4, 'MINUTES_REMAINING': 0, 'SECONDS_REMAINING': 20, 'EVENT_TYPE': 'Missed Shot', 'ACTION_TYPE': 'Running Pull-Up Jump Shot', 'SHOT_TYPE': '3PT Field Goal', 'SHOT_ZONE_BASIC': 'Above the Break 3', 'SHOT_ZONE_AREA': 'Left Side Center(LC)', 'SHOT_ZONE_RANGE': '24+ ft.', 'SHOT_DISTANCE': 25, 'LOC_X': -105, 'LOC_Y': 230, 'SHOT_ATTEMPTED_FLAG': 1, 'SHOT_MADE_FLAG': 0, 'GAME_DATE': '20241207', 'HTM': 'NYK', 'VTM': 'DET'}\n",
      "{'GRID_TYPE': 'Shot Chart Detail', 'GAME_ID': '0022400405', 'GAME_EVENT_ID': 610, 'PLAYER_ID': 1628973, 'PLAYER_NAME': 'Jalen Brunson', 'TEAM_ID': 1610612752, 'TEAM_NAME': 'New York Knicks', 'PERIOD': 4, 'MINUTES_REMAINING': 0, 'SECONDS_REMAINING': 21, 'EVENT_TYPE': 'Missed Shot', 'ACTION_TYPE': 'Pullup Jump shot', 'SHOT_TYPE': '2PT Field Goal', 'SHOT_ZONE_BASIC': 'Mid-Range', 'SHOT_ZONE_AREA': 'Right Side(R)', 'SHOT_ZONE_RANGE': '8-16 ft.', 'SHOT_DISTANCE': 15, 'LOC_X': 108, 'LOC_Y': 106, 'SHOT_ATTEMPTED_FLAG': 1, 'SHOT_MADE_FLAG': 0, 'GAME_DATE': '20241225', 'HTM': 'NYK', 'VTM': 'SAS'}\n",
      "{'GRID_TYPE': 'Shot Chart Detail', 'GAME_ID': '0022400429', 'GAME_EVENT_ID': 551, 'PLAYER_ID': 1628973, 'PLAYER_NAME': 'Jalen Brunson', 'TEAM_ID': 1610612752, 'TEAM_NAME': 'New York Knicks', 'PERIOD': 4, 'MINUTES_REMAINING': 0, 'SECONDS_REMAINING': 57, 'EVENT_TYPE': 'Made Shot', 'ACTION_TYPE': 'Driving Floating Jump Shot', 'SHOT_TYPE': '2PT Field Goal', 'SHOT_ZONE_BASIC': 'In The Paint (Non-RA)', 'SHOT_ZONE_AREA': 'Center(C)', 'SHOT_ZONE_RANGE': '8-16 ft.', 'SHOT_DISTANCE': 10, 'LOC_X': -17, 'LOC_Y': 105, 'SHOT_ATTEMPTED_FLAG': 1, 'SHOT_MADE_FLAG': 1, 'GAME_DATE': '20241228', 'HTM': 'WAS', 'VTM': 'NYK'}\n",
      "{'GRID_TYPE': 'Shot Chart Detail', 'GAME_ID': '0022400429', 'GAME_EVENT_ID': 560, 'PLAYER_ID': 1628973, 'PLAYER_NAME': 'Jalen Brunson', 'TEAM_ID': 1610612752, 'TEAM_NAME': 'New York Knicks', 'PERIOD': 4, 'MINUTES_REMAINING': 0, 'SECONDS_REMAINING': 11, 'EVENT_TYPE': 'Made Shot', 'ACTION_TYPE': 'Driving Floating Jump Shot', 'SHOT_TYPE': '2PT Field Goal', 'SHOT_ZONE_BASIC': 'In The Paint (Non-RA)', 'SHOT_ZONE_AREA': 'Center(C)', 'SHOT_ZONE_RANGE': '8-16 ft.', 'SHOT_DISTANCE': 13, 'LOC_X': 6, 'LOC_Y': 138, 'SHOT_ATTEMPTED_FLAG': 1, 'SHOT_MADE_FLAG': 1, 'GAME_DATE': '20241228', 'HTM': 'WAS', 'VTM': 'NYK'}\n",
      "{'GRID_TYPE': 'Shot Chart Detail', 'GAME_ID': '0022401227', 'GAME_EVENT_ID': 629, 'PLAYER_ID': 1628973, 'PLAYER_NAME': 'Jalen Brunson', 'TEAM_ID': 1610612752, 'TEAM_NAME': 'New York Knicks', 'PERIOD': 4, 'MINUTES_REMAINING': 0, 'SECONDS_REMAINING': 36, 'EVENT_TYPE': 'Missed Shot', 'ACTION_TYPE': 'Pullup Jump shot', 'SHOT_TYPE': '3PT Field Goal', 'SHOT_ZONE_BASIC': 'Above the Break 3', 'SHOT_ZONE_AREA': 'Center(C)', 'SHOT_ZONE_RANGE': '24+ ft.', 'SHOT_DISTANCE': 26, 'LOC_X': -7, 'LOC_Y': 264, 'SHOT_ATTEMPTED_FLAG': 1, 'SHOT_MADE_FLAG': 0, 'GAME_DATE': '20241215', 'HTM': 'ORL', 'VTM': 'NYK'}\n"
     ]
    }
   ],
   "source": [
    "# Requires team_id and player_id\n",
    "\"\"\"Can set clutch time parameters\n",
    "clutch_time_nullable=ClutchTime.last_1_minute\n",
    "OR\n",
    "clutch_time_nullable='Last 1 Minute'\n",
    "\"\"\"\n",
    "\n",
    "\"\"\"\n",
    "Can set regular season and playoffs (separate cannot combine)\n",
    "season_type_all_star='Regular Season'\n",
    "season_type_all_star='Playoffs'\n",
    "\"\"\"\n",
    "\n",
    "\"\"\"Can set location (Home, Road)\n",
    "# location_nullable='Road'\n",
    "\"\"\"\n",
    "\n",
    "\"\"\"\n",
    "Can set last number of n games\n",
    "last_n_games=5\n",
    "\"\"\"\n",
    "\n",
    "\"\"\"\n",
    "Select Month\n",
    "Month 1 is the first month of the season i.e. October, 3 = December, 7 = April\n",
    "february = 5\n",
    "month=february\n",
    "\"\"\"\n",
    "\n",
    "\"\"\"\n",
    "Select period, 5 is overtime, 0 is all (default)\n",
    "period=1\n",
    "period=5\n",
    "period=0\n",
    "\"\"\"\n",
    "\n",
    "\"\"\"\n",
    "OTHER\n",
    "- opponent_team_id\n",
    "- game_segment_nullable\n",
    "    * 'First Half', 'Second Half', 'Overtime'\n",
    "- outcome_nullable\n",
    "    * 'W', 'L'\n",
    "- date_from_nullable='2025-01-29',\n",
    "- date_to_nullable='2025-02-04'\n",
    "- ahead_behind_nullable='Ahead or Tied'\n",
    "- ahead_behind_nullable='Behind or Tied'\n",
    "- ahead_behind_nullable='Ahead or Behind'\n",
    "\"\"\"\n",
    "\n",
    "brunson = {'tid': 1610612752, 'pid': 1628973}\n",
    "curry = {'tid': 1610612744, 'pid': 201939}\n",
    "gordon = {'tid': 1610612743, 'pid': 203932}\n",
    "shai = {'tid': 1610612760, 'pid': 1628983}\n",
    "mitchell = {'tid': 1610612739, 'pid': 1628378}\n",
    "garland = {'tid': 1610612739, 'pid': 1629636}\n",
    "\n",
    "raw = ShotChartDetail(team_id=brunson['tid'], player_id=brunson['pid'],\n",
    "                      season_type_all_star='Regular Season',\n",
    "                      clutch_time_nullable='Last 1 Minute',\n",
    "                      month=3,\n",
    "                      season_nullable='2024-25',\n",
    "                      # Ensures made and missed goals are returned\n",
    "                      context_measure_simple='FGA'\n",
    "                      )\n",
    "\n",
    "raw_shots = raw.shot_chart_detail.get_dict()\n",
    "\n",
    "# with open('test_output.json', 'w') as f:\n",
    "#     json.dump(raw_shots, f, indent=4)\n",
    "\n",
    "# raw_shots\n",
    "headers = raw_shots['headers']\n",
    "headers\n",
    "result_sets = raw_shots['data']\n",
    "for r in result_sets:\n",
    "    current_dict = dict(zip(headers, r))\n",
    "    print(current_dict)\n",
    "    # print(f'{current_dict['GAME_DATE']} - {current_dict['HTM']} vs {current_dict['VTM']}, Period:{current_dict['PERIOD']}, m_rem:{current_dict['MINUTES_REMAINING']}, s_rem:{current_dict['SECONDS_REMAINING']}')\n"
   ]
  },
  {
   "cell_type": "code",
   "execution_count": 4,
   "metadata": {},
   "outputs": [
    {
     "name": "stdout",
     "output_type": "stream",
     "text": [
      "{'SEASON_ID': '42024', 'Player_ID': 203932, 'Game_ID': '0042400227', 'GAME_DATE': 'May 18, 2025', 'MATCHUP': 'DEN @ OKC', 'WL': 'L', 'MIN': 25, 'FGM': 2, 'FGA': 4, 'FG_PCT': 0.5, 'FG3M': 1, 'FG3A': 3, 'FG3_PCT': 0.333, 'FTM': 3, 'FTA': 3, 'FT_PCT': 1.0, 'OREB': 4, 'DREB': 7, 'REB': 11, 'AST': 0, 'STL': 0, 'BLK': 0, 'TOV': 4, 'PF': 1, 'PTS': 8, 'PLUS_MINUS': -9, 'VIDEO_AVAILABLE': 1}\n",
      "{'SEASON_ID': '42024', 'Player_ID': 203932, 'Game_ID': '0042400226', 'GAME_DATE': 'May 15, 2025', 'MATCHUP': 'DEN vs. OKC', 'WL': 'W', 'MIN': 38, 'FGM': 2, 'FGA': 7, 'FG_PCT': 0.286, 'FG3M': 1, 'FG3A': 4, 'FG3_PCT': 0.25, 'FTM': 0, 'FTA': 0, 'FT_PCT': 0.0, 'OREB': 2, 'DREB': 5, 'REB': 7, 'AST': 7, 'STL': 1, 'BLK': 0, 'TOV': 1, 'PF': 0, 'PTS': 5, 'PLUS_MINUS': 17, 'VIDEO_AVAILABLE': 1}\n",
      "{'SEASON_ID': '42024', 'Player_ID': 203932, 'Game_ID': '0042400225', 'GAME_DATE': 'May 13, 2025', 'MATCHUP': 'DEN @ OKC', 'WL': 'L', 'MIN': 37, 'FGM': 6, 'FGA': 13, 'FG_PCT': 0.462, 'FG3M': 1, 'FG3A': 5, 'FG3_PCT': 0.2, 'FTM': 0, 'FTA': 1, 'FT_PCT': 0.0, 'OREB': 2, 'DREB': 3, 'REB': 5, 'AST': 3, 'STL': 1, 'BLK': 0, 'TOV': 3, 'PF': 1, 'PTS': 13, 'PLUS_MINUS': 0, 'VIDEO_AVAILABLE': 1}\n",
      "{'SEASON_ID': '42024', 'Player_ID': 203932, 'Game_ID': '0042400224', 'GAME_DATE': 'May 11, 2025', 'MATCHUP': 'DEN vs. OKC', 'WL': 'L', 'MIN': 38, 'FGM': 5, 'FGA': 10, 'FG_PCT': 0.5, 'FG3M': 3, 'FG3A': 7, 'FG3_PCT': 0.429, 'FTM': 2, 'FTA': 4, 'FT_PCT': 0.5, 'OREB': 7, 'DREB': 9, 'REB': 16, 'AST': 6, 'STL': 0, 'BLK': 1, 'TOV': 4, 'PF': 3, 'PTS': 15, 'PLUS_MINUS': -4, 'VIDEO_AVAILABLE': 1}\n",
      "{'SEASON_ID': '42024', 'Player_ID': 203932, 'Game_ID': '0042400223', 'GAME_DATE': 'May 09, 2025', 'MATCHUP': 'DEN vs. OKC', 'WL': 'W', 'MIN': 46, 'FGM': 7, 'FGA': 11, 'FG_PCT': 0.636, 'FG3M': 4, 'FG3A': 6, 'FG3_PCT': 0.667, 'FTM': 4, 'FTA': 4, 'FT_PCT': 1.0, 'OREB': 0, 'DREB': 8, 'REB': 8, 'AST': 5, 'STL': 1, 'BLK': 0, 'TOV': 1, 'PF': 2, 'PTS': 22, 'PLUS_MINUS': 15, 'VIDEO_AVAILABLE': 1}\n",
      "{'SEASON_ID': '42024', 'Player_ID': 203932, 'Game_ID': '0042400222', 'GAME_DATE': 'May 07, 2025', 'MATCHUP': 'DEN @ OKC', 'WL': 'L', 'MIN': 27, 'FGM': 3, 'FGA': 12, 'FG_PCT': 0.25, 'FG3M': 2, 'FG3A': 3, 'FG3_PCT': 0.667, 'FTM': 2, 'FTA': 2, 'FT_PCT': 1.0, 'OREB': 5, 'DREB': 0, 'REB': 5, 'AST': 1, 'STL': 0, 'BLK': 1, 'TOV': 1, 'PF': 3, 'PTS': 10, 'PLUS_MINUS': -36, 'VIDEO_AVAILABLE': 1}\n",
      "{'SEASON_ID': '42024', 'Player_ID': 203932, 'Game_ID': '0042400221', 'GAME_DATE': 'May 05, 2025', 'MATCHUP': 'DEN @ OKC', 'WL': 'W', 'MIN': 39, 'FGM': 7, 'FGA': 15, 'FG_PCT': 0.467, 'FG3M': 3, 'FG3A': 6, 'FG3_PCT': 0.5, 'FTM': 5, 'FTA': 5, 'FT_PCT': 1.0, 'OREB': 7, 'DREB': 7, 'REB': 14, 'AST': 1, 'STL': 0, 'BLK': 0, 'TOV': 1, 'PF': 2, 'PTS': 22, 'PLUS_MINUS': 16, 'VIDEO_AVAILABLE': 1}\n",
      "{'SEASON_ID': '42024', 'Player_ID': 203932, 'Game_ID': '0042400177', 'GAME_DATE': 'May 03, 2025', 'MATCHUP': 'DEN vs. LAC', 'WL': 'W', 'MIN': 36, 'FGM': 9, 'FGA': 16, 'FG_PCT': 0.563, 'FG3M': 0, 'FG3A': 3, 'FG3_PCT': 0.0, 'FTM': 4, 'FTA': 4, 'FT_PCT': 1.0, 'OREB': 2, 'DREB': 2, 'REB': 4, 'AST': 5, 'STL': 1, 'BLK': 1, 'TOV': 1, 'PF': 5, 'PTS': 22, 'PLUS_MINUS': 23, 'VIDEO_AVAILABLE': 1}\n",
      "{'SEASON_ID': '42024', 'Player_ID': 203932, 'Game_ID': '0042400176', 'GAME_DATE': 'May 01, 2025', 'MATCHUP': 'DEN @ LAC', 'WL': 'L', 'MIN': 41, 'FGM': 9, 'FGA': 16, 'FG_PCT': 0.563, 'FG3M': 1, 'FG3A': 6, 'FG3_PCT': 0.167, 'FTM': 0, 'FTA': 0, 'FT_PCT': 0.0, 'OREB': 4, 'DREB': 1, 'REB': 5, 'AST': 1, 'STL': 1, 'BLK': 1, 'TOV': 2, 'PF': 1, 'PTS': 19, 'PLUS_MINUS': -2, 'VIDEO_AVAILABLE': 1}\n",
      "{'SEASON_ID': '42024', 'Player_ID': 203932, 'Game_ID': '0042400175', 'GAME_DATE': 'Apr 29, 2025', 'MATCHUP': 'DEN vs. LAC', 'WL': 'W', 'MIN': 37, 'FGM': 7, 'FGA': 11, 'FG_PCT': 0.636, 'FG3M': 1, 'FG3A': 2, 'FG3_PCT': 0.5, 'FTM': 8, 'FTA': 9, 'FT_PCT': 0.889, 'OREB': 2, 'DREB': 2, 'REB': 4, 'AST': 2, 'STL': 0, 'BLK': 0, 'TOV': 1, 'PF': 4, 'PTS': 23, 'PLUS_MINUS': 13, 'VIDEO_AVAILABLE': 1}\n",
      "{'SEASON_ID': '42024', 'Player_ID': 203932, 'Game_ID': '0042400174', 'GAME_DATE': 'Apr 26, 2025', 'MATCHUP': 'DEN @ LAC', 'WL': 'W', 'MIN': 43, 'FGM': 5, 'FGA': 9, 'FG_PCT': 0.556, 'FG3M': 1, 'FG3A': 3, 'FG3_PCT': 0.333, 'FTM': 3, 'FTA': 4, 'FT_PCT': 0.75, 'OREB': 3, 'DREB': 3, 'REB': 6, 'AST': 5, 'STL': 1, 'BLK': 1, 'TOV': 1, 'PF': 3, 'PTS': 14, 'PLUS_MINUS': 1, 'VIDEO_AVAILABLE': 1}\n",
      "{'SEASON_ID': '42024', 'Player_ID': 203932, 'Game_ID': '0042400173', 'GAME_DATE': 'Apr 24, 2025', 'MATCHUP': 'DEN @ LAC', 'WL': 'L', 'MIN': 32, 'FGM': 6, 'FGA': 16, 'FG_PCT': 0.375, 'FG3M': 2, 'FG3A': 4, 'FG3_PCT': 0.5, 'FTM': 1, 'FTA': 1, 'FT_PCT': 1.0, 'OREB': 5, 'DREB': 2, 'REB': 7, 'AST': 0, 'STL': 0, 'BLK': 0, 'TOV': 2, 'PF': 3, 'PTS': 15, 'PLUS_MINUS': -10, 'VIDEO_AVAILABLE': 1}\n",
      "{'SEASON_ID': '42024', 'Player_ID': 203932, 'Game_ID': '0042400172', 'GAME_DATE': 'Apr 21, 2025', 'MATCHUP': 'DEN vs. LAC', 'WL': 'L', 'MIN': 38, 'FGM': 5, 'FGA': 13, 'FG_PCT': 0.385, 'FG3M': 1, 'FG3A': 3, 'FG3_PCT': 0.333, 'FTM': 3, 'FTA': 3, 'FT_PCT': 1.0, 'OREB': 2, 'DREB': 4, 'REB': 6, 'AST': 1, 'STL': 0, 'BLK': 0, 'TOV': 1, 'PF': 3, 'PTS': 14, 'PLUS_MINUS': -1, 'VIDEO_AVAILABLE': 1}\n",
      "{'SEASON_ID': '42024', 'Player_ID': 203932, 'Game_ID': '0042400171', 'GAME_DATE': 'Apr 19, 2025', 'MATCHUP': 'DEN vs. LAC', 'WL': 'W', 'MIN': 46, 'FGM': 8, 'FGA': 14, 'FG_PCT': 0.571, 'FG3M': 1, 'FG3A': 3, 'FG3_PCT': 0.333, 'FTM': 8, 'FTA': 10, 'FT_PCT': 0.8, 'OREB': 5, 'DREB': 3, 'REB': 8, 'AST': 1, 'STL': 2, 'BLK': 0, 'TOV': 3, 'PF': 2, 'PTS': 25, 'PLUS_MINUS': 0, 'VIDEO_AVAILABLE': 1}\n"
     ]
    }
   ],
   "source": [
    "from nba_api.stats.endpoints.playergamelog import PlayerGameLog\n",
    "\n",
    "brunson = {'tid': 1610612752, 'pid': 1628973}\n",
    "curry = {'tid': 1610612744, 'pid': 201939}\n",
    "gordon = {'tid': 1610612743, 'pid': 203932}\n",
    "\n",
    "player_game_log_raw = PlayerGameLog(player_id=gordon['pid'],\n",
    "                                    season='2024-25',\n",
    "                                    season_type_all_star='Playoffs'\n",
    "                                    )\n",
    "\n",
    "player = player_game_log_raw.get_dict()\n",
    "headers = player['resultSets'][0]['headers']\n",
    "row_sets = player['resultSets'][0]['rowSet']\n",
    "\n",
    "for rs in row_sets:\n",
    "    print(dict(zip(headers, rs)))\n",
    "\n",
    "# print(player)\n",
    "# player\n"
   ]
  },
  {
   "cell_type": "code",
   "execution_count": null,
   "metadata": {},
   "outputs": [],
   "source": [
    "\"\"\"\n",
    "player_id: Any, season: str = Season.default, season_type_all_star: str = SeasonTypeAllStar.default, \n",
    "date_from_nullable: str = \"\", date_to_nullable: str = \"\", league_id_nullable: str = LeagueIDNullable.default, \n",
    "proxy: Any | None = None, headers: Any | None = None, timeout: int = 30, \n",
    "get_request: bool = True) -> PlayerGameLog\n",
    "\"\"\""
   ]
  },
  {
   "cell_type": "code",
   "execution_count": 4,
   "metadata": {},
   "outputs": [
    {
     "data": {
      "text/plain": [
       "12"
      ]
     },
     "execution_count": 4,
     "metadata": {},
     "output_type": "execute_result"
    }
   ],
   "source": []
  },
  {
   "cell_type": "code",
   "execution_count": 6,
   "metadata": {},
   "outputs": [
    {
     "data": {
      "text/plain": [
       "125"
      ]
     },
     "execution_count": 6,
     "metadata": {},
     "output_type": "execute_result"
    }
   ],
   "source": [
    "a = 1628973\n",
    "b = 25\n",
    "c = 1\n",
    "\n",
    "a + b"
   ]
  },
  {
   "cell_type": "code",
   "execution_count": 33,
   "metadata": {},
   "outputs": [
    {
     "data": {
      "text/plain": [
       "14"
      ]
     },
     "execution_count": 33,
     "metadata": {},
     "output_type": "execute_result"
    }
   ],
   "source": [
    "# Example\n",
    "game_id = '0022400343'\n",
    "game_event_id = 631\n",
    "shot_made_flag = 1\n",
    "\n",
    "period = 3\n",
    "minutes = 7\n",
    "seconds = 53\n",
    "# NEW shot ids and time ids!!!\n",
    "shot_id = f'{game_id}{game_event_id}{shot_made_flag}'\n",
    "time_id = f'{game_id}{game_event_id}{period}{minutes}{seconds}'\n",
    "\n",
    "len(time_id)\n",
    "len(shot_id)"
   ]
  },
  {
   "cell_type": "code",
   "execution_count": null,
   "metadata": {},
   "outputs": [],
   "source": []
  }
 ],
 "metadata": {
  "kernelspec": {
   "display_name": "nba-env",
   "language": "python",
   "name": "python3"
  },
  "language_info": {
   "codemirror_mode": {
    "name": "ipython",
    "version": 3
   },
   "file_extension": ".py",
   "mimetype": "text/x-python",
   "name": "python",
   "nbconvert_exporter": "python",
   "pygments_lexer": "ipython3",
   "version": "3.13.2"
  }
 },
 "nbformat": 4,
 "nbformat_minor": 2
}
