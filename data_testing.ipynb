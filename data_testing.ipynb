{
 "cells": [
  {
   "cell_type": "code",
   "execution_count": null,
   "metadata": {},
   "outputs": [],
   "source": [
    "from nba_api.stats.endpoints.shotchartdetail import ShotChartDetail\n",
    "from typing import Union\n",
    "import mysql.connector as connector\n",
    "from datetime import datetime\n",
    "import time\n",
    "from dotenv import load_dotenv\n",
    "import os\n",
    "from tqdm import tqdm"
   ]
  },
  {
   "cell_type": "markdown",
   "metadata": {},
   "source": [
    "## TESTING FOR STAGING DATA"
   ]
  },
  {
   "cell_type": "markdown",
   "metadata": {},
   "source": [
    "##### Retrieve all players of a given team and retrieve shots for ALL those players\n",
    "- Separate 'Regular Season' and 'Playoffs' retrievals"
   ]
  },
  {
   "cell_type": "code",
   "execution_count": null,
   "metadata": {},
   "outputs": [],
   "source": [
    "# SQL query to retrieve all players of a given team (stored proc)\n",
    "# Call stored proc with cursor_dictionary\n",
    "# Create simple logic to pass in player and team id\n",
    "\n",
    "# Call ShotChartDetail() with player and team id, load into staging\n"
   ]
  },
  {
   "cell_type": "code",
   "execution_count": null,
   "metadata": {},
   "outputs": [],
   "source": [
    "# Holds map of team name -> team abbreviation\n",
    "team_names_map = {\n",
    "    'Atlanta Hawks':'ATL', 'Boston Celtics':'BOS', 'Brooklyn Nets':'BKN', 'Charlotte Hornets':'CHA',\n",
    "    'Chicago Bulls':'CHI', 'Cleveland Cavaliers':'CLE', 'Dallas Mavericks':'DAL', 'Denver Nuggets':'DEN',\n",
    "    'Detroit Pistons':'DET', 'Golden State Warriors':'GSW', 'Houston Rockets':'HOU', 'Indiana Pacers':'IND',\n",
    "    'Los Angeles Clippers':'LAC', 'Los Angeles Lakers':'LAL', 'Memphis Grizzlies':'MEM', 'Miami Heat':'MIA',\n",
    "    'Milwaukee Bucks':'MIL', 'Minnesota Timberwolves':'MIN', 'New Orleans Pelicans':'NOP', 'New York Knicks':'NYK',\n",
    "    'Oklahoma City Thunder':'OKC', 'Orlando Magic':'ORL', 'Philadelphia 76ers':'PHI', 'Phoenix Suns':'PHX',\n",
    "    'Portland Trail Blazers':'POR', 'Sacramento Kings':'SAC', 'San Antonio Spurs':'SAS', 'Toronto Raptors':'TOR',\n",
    "    'Utah Jazz':'UTA', 'Washington Wizards':'WAS'\n",
    "}\n",
    "\n",
    "# Date format received from API is string of 'yyyymmdd', convert to string representation of datetime object 'yyyy-mm-dd'\n",
    "def get_date_format(date_str: str) -> str:\n",
    "    return datetime.strptime(date_str, '%Y%m%d').strftime('%Y-%m-%d')\n",
    "\n",
    "# Get team abbreviation of player as it's not received from API, also create matchup str for the game eg 'CHI vs. PHI'/ 'HOU @ MIN'\n",
    "def get_team_and_matchup(team: str, h_team: str, v_team: str) -> tuple[str, str]:\n",
    "    # Retrieve team abbreviation from the mapped dictionary\n",
    "    player_team_abbrev = team_names_map[team]\n",
    "    # If the player's team is the home team...\n",
    "    if h_team == player_team_abbrev:\n",
    "        matchup = f'{h_team} vs. {v_team}'\n",
    "    # Redundant elif but wanted to be clear about the logic. Could also just use 'else'\n",
    "    elif v_team == player_team_abbrev:\n",
    "        matchup = f'{v_team} @ {h_team}'\n",
    "    return player_team_abbrev, matchup\n",
    "\n",
    "# Function to take in player in ShotChartDetail API\n",
    "# Returns list of dictionaries, each dictionary is individual player's shot data\n",
    "def player_shots(p_id: int, t_id: int, season_segment: str) -> list[dict]:\n",
    "    # API call\n",
    "    raw = ShotChartDetail(player_id=p_id,\n",
    "                          team_id=t_id,\n",
    "                          season_type_all_star=season_segment,\n",
    "                          clutch_time_nullable='Last 1 Minute', # Need to remove this\n",
    "                          season_nullable='2024-25',\n",
    "                          # Ensures made and missed goals are returned\n",
    "                          context_measure_simple='FGA')\n",
    "\n",
    "    # Get data in dictionary form\n",
    "    raw_shots = raw.shot_chart_detail.get_dict()\n",
    "    # Retrieve headers from the data set\n",
    "    headers = raw_shots['headers']\n",
    "    # lowercase each header\n",
    "    new_headers = [hdr.lower() for hdr in headers]\n",
    "    # Retrieve result sets from data set\n",
    "    result_sets = raw_shots['data']\n",
    "    # list which will contain tuples of each shot data of the player\n",
    "    player_shots = []\n",
    "    for r in result_sets:\n",
    "        # Map the headers and results into dict\n",
    "        # Each 'r' is a different shot\n",
    "        current_dict = dict(zip(new_headers, r))\n",
    "        # Add team_abbrev, matchup from get_team_and_matchup() function\n",
    "        current_dict['team_abbrev'], current_dict['matchup'] = get_team_and_matchup(current_dict['team_name'], current_dict['htm'], current_dict['vtm'])\n",
    "        # Change game date to formatted style\n",
    "        current_dict['game_date'] = get_date_format(current_dict['game_date'])\n",
    "        # Add season segment 'Playoffs' or 'Regular Season'\n",
    "        current_dict['season_segment'] = season_segment\n",
    "        # Remove 'grid_type', 'shot_attempted_flag', unnecessary elements\n",
    "        current_dict.pop('grid_type', None)\n",
    "        current_dict.pop('shot_attempted_flag', None)\n",
    "        # Append the current_dict (r/shot) to the player's total shots in tuple format\n",
    "        # player_shots.append(tuple(current_dict.values()))\n",
    "        player_shots.append(current_dict)\n",
    "    # Return player_shots and use '.extend()' on the team's overall list 'team_shots'\n",
    "    return player_shots\n"
   ]
  },
  {
   "cell_type": "code",
   "execution_count": null,
   "metadata": {},
   "outputs": [],
   "source": [
    "# Function to retrieve a single team's players from reference table 'ref_teams' JOIN 'ref_players'\n",
    "# Returns dict with team_id, list of player id's, list of player name\n",
    "def get_team(team_abbrev: str) -> dict[str, Union[int, list]]:\n",
    "    # Load environment for mysql password\n",
    "    load_dotenv()\n",
    "    pw = os.getenv('mysql_pw')\n",
    "    # Connect to db\n",
    "    connection = connector.connect(host='localhost', user='root', \n",
    "                                   password=pw, port=3306, database='shot_eff_whse')\n",
    "    # Create cursor and start the database, close the cursor immediately as a new one will be created\n",
    "    cursor = connection.cursor()\n",
    "    cursor.execute(\"\"\"USE shot_eff_whse\"\"\")\n",
    "    cursor.close()\n",
    "    # Dictionary cursor to return table in dictionary format (team_abbrev, player_id, team_id, player_name)\n",
    "    cursor_dict = connection.cursor(dictionary=True)\n",
    "    # Call stored procedure to receive all players in the given team\n",
    "    cursor_dict.callproc(procname='TeamPlayers', args=[team_abbrev])\n",
    "    # Empty dict to include team's id, list of each player's id and list of each player's name (debugging)\n",
    "    team = {}\n",
    "    # Retrieve stored procesdure results and loop over each row (player)\n",
    "    for result in cursor_dict.stored_results():\n",
    "        players = result.fetchall()\n",
    "        for num, player in enumerate(players, start=1):\n",
    "            # Retrieve the team's id once only, by any player (Whoever is first)\n",
    "            if num == 1:\n",
    "                team['team_id'] = player['team_id']\n",
    "                # And create the structure for the id's and player names\n",
    "                team['player_ids'] = []\n",
    "                team['player_names'] = []\n",
    "            # Append each player's id and name to respective 'team{}' element\n",
    "            team['player_ids'].append(player['player_id'])\n",
    "            team['player_names'].append(player['player_name'])\n",
    "            # TEST debug\n",
    "            # print(f'Team: {player['team_abbrev']} - P_ID: {player['player_id']} - T_ID: {player['team_id']} - Name: {player['player_name']}')\n",
    "    cursor_dict.close()\n",
    "    connection.close()\n",
    "    return team\n"
   ]
  },
  {
   "cell_type": "code",
   "execution_count": null,
   "metadata": {},
   "outputs": [],
   "source": [
    "# Returns list of dictionaries where values are strings or integers\n",
    "def nba_team_shots(nba_team: str, season_segment: str) -> list[dict[str | int]]:\n",
    "    # Call function to retrieve dict of given team\n",
    "    team_details = get_team(nba_team)\n",
    "    # Will hold all player shots of team, one dict for each shot\n",
    "    team_shots = []\n",
    "    # Loop over the players (id's) of the team\n",
    "    for pid in tqdm(team_details['player_ids'], desc='Loading Players..'):\n",
    "        # Contains all shots of a given player\n",
    "        shots = player_shots(p_id=pid, t_id=team_details['team_id'] ,season_segment=season_segment)\n",
    "        # Add the shots to the current team's shots\n",
    "        team_shots.extend(shots)\n",
    "        # Avoid overloading the API\n",
    "        time.sleep(1)\n",
    "\n",
    "    return team_shots\n",
    "\n",
    "# SQL Insertion function?\n",
    "# \n",
    "def stage_shots(nba_team: str, nba_season_segment: str):\n",
    "    current_team_shots = nba_team_shots(nba_team, nba_season_segment)\n",
    "    # Load environment for mysql password\n",
    "    load_dotenv()\n",
    "    pw = os.getenv('mysql_pw')\n",
    "    # Connect to db\n",
    "    connection = connector.connect(host='localhost', user='root', \n",
    "                                   password=pw, port=3306, database='shot_eff_whse')\n",
    "    # Create cursor and start the database, close the cursor immediately as a new one will be created\n",
    "    cursor = connection.cursor()\n",
    "    cursor.execute(\"\"\"USE shot_eff_whse\"\"\")\n",
    "    \n",
    "    # Insert into database\n",
    "    insert_player_shots_query = \"\"\"\n",
    "                                INSERT INTO stg_shots (game_id, game_event_id, player_id, player_name, team_id, team_name, team_abbrev, period, minutes_remaining, seconds_remaining, \n",
    "                                event_type, action_type, shot_type, shot_zone_basic, shot_zone_area, shot_zone_range, shot_distance, loc_x, loc_y, shot_made_flag, game_date, htm, vtm, matchup, season_segment) \n",
    "                                VALUES (%(game_id)s, %(game_event_id)s, %(player_id)s, %(player_name)s, %(team_id)s, %(team_name)s, %(team_abbrev)s, %(period)s, %(minutes_remaining)s, %(seconds_remaining)s, \n",
    "                                %(event_type)s, %(action_type)s, %(shot_type)s, %(shot_zone_basic)s, %(shot_zone_area)s, %(shot_zone_range)s, %(shot_distance)s, %(loc_x)s, %(loc_y)s, %(shot_made_flag)s, \n",
    "                                %(game_date)s, %(htm)s, %(vtm)s, %(matchup)s, %(season_segment)s)\n",
    "                                \"\"\"\n",
    "    print('Inserting players...')\n",
    "    cursor.executemany(insert_player_shots_query, current_team_shots)\n",
    "    # Insert into ref_teams.last_updated with '' timestamp\n",
    "\n",
    "    timestamp = datetime.now().strftime('%Y-%m-%d %H:%M:%S')\n",
    "    update_timestamp_query = \"UPDATE ref_teams SET last_updated = %s WHERE team_abbrev = %s\"\n",
    "    cursor.execute(update_timestamp_query, (timestamp, nba_team))\n",
    "\n",
    "    cursor.execute('''SELECT * FROM ref_teams''')\n",
    "    results = cursor.fetchall()\n",
    "    return results\n",
    "\n"
   ]
  },
  {
   "cell_type": "code",
   "execution_count": null,
   "metadata": {},
   "outputs": [],
   "source": [
    "res = stage_shots('HOU', 'Playoffs')\n",
    "for r in res:\n",
    "    print(r)"
   ]
  },
  {
   "cell_type": "code",
   "execution_count": null,
   "metadata": {},
   "outputs": [],
   "source": []
  },
  {
   "cell_type": "code",
   "execution_count": null,
   "metadata": {},
   "outputs": [],
   "source": [
    "# TESTING\n",
    "tm = get_team('GSW')\n",
    "# player = p, \n",
    "team_shots = []\n",
    "for pid in tqdm(tm['player_ids'], desc='Loading Players..'):\n",
    "    shots = player_shots(p_id=pid, t_id=tm['team_id'] ,season_segment=\"Playoffs\")\n",
    "    team_shots.extend(shots)\n",
    "    time.sleep(1)\n",
    "\n",
    "\n"
   ]
  },
  {
   "cell_type": "code",
   "execution_count": null,
   "metadata": {},
   "outputs": [],
   "source": [
    "for shot in team_shots:\n",
    "    print(shot)"
   ]
  },
  {
   "cell_type": "code",
   "execution_count": null,
   "metadata": {},
   "outputs": [],
   "source": [
    "timestamp = datetime.now().strftime('%Y-%m-%d %H:%M:%S')\n",
    "timestamp"
   ]
  },
  {
   "cell_type": "code",
   "execution_count": null,
   "metadata": {},
   "outputs": [],
   "source": [
    "class DatabaseControl:\n",
    "    connection = connector.connect(host='localhost', user='root', \n",
    "                                   password='password', port=3306, database='shot_eff_whse')\n",
    "    cursor = connection.cursor()\n",
    "    dict_cursor = connection.cursor(dictionary=True)\n",
    "\n",
    "DatabaseControl.dict_cursor.execute('SELECT * FROM teams')"
   ]
  },
  {
   "cell_type": "code",
   "execution_count": null,
   "metadata": {},
   "outputs": [],
   "source": [
    "DatabaseControl.dict_cursor.execute('SELECT * FROM teams')"
   ]
  },
  {
   "cell_type": "code",
   "execution_count": null,
   "metadata": {},
   "outputs": [],
   "source": [
    "class Example:\n",
    "    print('Class')\n",
    "\n",
    "def example():\n",
    "    print('Function')"
   ]
  },
  {
   "cell_type": "code",
   "execution_count": null,
   "metadata": {},
   "outputs": [],
   "source": [
    "class StageTeamShotData:\n",
    "# Holds map of team name -> team abbreviation\n",
    "    team_names_map = {'Atlanta Hawks':'ATL', 'Boston Celtics':'BOS', 'Brooklyn Nets':'BKN', 'Charlotte Hornets':'CHA',\n",
    "                      'Chicago Bulls':'CHI', 'Cleveland Cavaliers':'CLE', 'Dallas Mavericks':'DAL', 'Denver Nuggets':'DEN',\n",
    "                      'Detroit Pistons':'DET', 'Golden State Warriors':'GSW', 'Houston Rockets':'HOU', 'Indiana Pacers':'IND',\n",
    "                      'Los Angeles Clippers':'LAC', 'Los Angeles Lakers':'LAL', 'Memphis Grizzlies':'MEM', 'Miami Heat':'MIA',\n",
    "                      'Milwaukee Bucks':'MIL', 'Minnesota Timberwolves':'MIN', 'New Orleans Pelicans':'NOP', 'New York Knicks':'NYK',\n",
    "                      'Oklahoma City Thunder':'OKC', 'Orlando Magic':'ORL', 'Philadelphia 76ers':'PHI', 'Phoenix Suns':'PHX',\n",
    "                      'Portland Trail Blazers':'POR', 'Sacramento Kings':'SAC', 'San Antonio Spurs':'SAS', 'Toronto Raptors':'TOR',\n",
    "                      'Utah Jazz':'UTA', 'Washington Wizards':'WAS'}\n",
    "    # Team name abbreviations used throughout the code\n",
    "    team_names = [abbrev for abbrev in team_names_map.values()]\n",
    "    def __init__(self, team, season_segment):\n",
    "        self._team = team if team in self.__class__.team_names else None\n",
    "        self._season_segment = season_segment if season_segment in ['Regular Season', 'Playoffs'] else None\n",
    "\n",
    "    # Getter for team: allows access to the current team\n",
    "    @property\n",
    "    def team(self):\n",
    "        return self._team\n",
    "    # Setter for team: allows updating the team\n",
    "    @team.setter\n",
    "    def team(self, new_team):\n",
    "        if new_team in self.__class__.team_names:\n",
    "            self._team = new_team\n",
    "        else:\n",
    "            raise ValueError(f'Invalid team: {new_team}. Must be one of: {self.__class__.team_names}')\n",
    "\n",
    "    # Getter for season_segment: allows access to the current season segment\n",
    "    @property\n",
    "    def season_segment(self):\n",
    "        return self._season_segment\n",
    "    # Setter for season_segment: allows updating the season segment\n",
    "    @season_segment.setter\n",
    "    def season_segment(self, segment):\n",
    "        if segment in ['Regular Season', 'Playoffs']:\n",
    "            self._season_segment = segment\n",
    "        else:\n",
    "            raise ValueError(f'Invalid season segment: {segment}. Must be one either: \"Regular Season\" or \"Playoffs\"')\n",
    "\n",
    "\n"
   ]
  },
  {
   "cell_type": "code",
   "execution_count": 7,
   "metadata": {},
   "outputs": [],
   "source": [
    "from staging_data import StageTeamShotData, DatabaseControl"
   ]
  },
  {
   "cell_type": "code",
   "execution_count": 8,
   "metadata": {},
   "outputs": [],
   "source": [
    "team_stack = {1: ['ATL', 'BOS', 'BKN'], 2: ['CHA', 'CHI', 'CLE'], 3: ['DAL', 'DEN', 'DET'],\n",
    "                4: ['GSW', 'HOU', 'IND'], 5: ['LAC', 'LAL', 'MEM'], 6: ['MIA', 'MIL', 'MIN'],\n",
    "                7: ['NOP', 'NYK', 'OKC'], 8: ['ORL', 'PHI', 'PHX'], 9: ['POR', 'SAC', 'SAS'],\n",
    "                10: ['TOR', 'UTA', 'WAS']}\n",
    "\n",
    "stack = 4"
   ]
  },
  {
   "cell_type": "code",
   "execution_count": 9,
   "metadata": {},
   "outputs": [
    {
     "name": "stderr",
     "output_type": "stream",
     "text": [
      "Loading: GSW -> Regular Season: 100%|██████████| 17/17 [00:31<00:00,  1.87s/it]\n"
     ]
    },
    {
     "name": "stdout",
     "output_type": "stream",
     "text": [
      "Inserting players...\n"
     ]
    },
    {
     "name": "stderr",
     "output_type": "stream",
     "text": [
      "Loading: GSW -> Playoffs: 100%|██████████| 17/17 [00:33<00:00,  1.98s/it]\n"
     ]
    },
    {
     "name": "stdout",
     "output_type": "stream",
     "text": [
      "Inserting players...\n"
     ]
    },
    {
     "name": "stderr",
     "output_type": "stream",
     "text": [
      "Loading: HOU -> Regular Season: 100%|██████████| 18/18 [00:34<00:00,  1.93s/it]\n"
     ]
    },
    {
     "name": "stdout",
     "output_type": "stream",
     "text": [
      "Inserting players...\n"
     ]
    },
    {
     "name": "stderr",
     "output_type": "stream",
     "text": [
      "Loading: HOU -> Playoffs: 100%|██████████| 18/18 [00:34<00:00,  1.91s/it]\n"
     ]
    },
    {
     "name": "stdout",
     "output_type": "stream",
     "text": [
      "Inserting players...\n"
     ]
    },
    {
     "name": "stderr",
     "output_type": "stream",
     "text": [
      "Loading: IND -> Regular Season: 100%|██████████| 18/18 [00:32<00:00,  1.82s/it]\n"
     ]
    },
    {
     "name": "stdout",
     "output_type": "stream",
     "text": [
      "Inserting players...\n"
     ]
    },
    {
     "name": "stderr",
     "output_type": "stream",
     "text": [
      "Loading: IND -> Playoffs: 100%|██████████| 18/18 [00:36<00:00,  2.05s/it]"
     ]
    },
    {
     "name": "stdout",
     "output_type": "stream",
     "text": [
      "Inserting players...\n",
      "('0022400973', 662, 203468, 'CJ McCollum', 1610612740, 'New Orleans Pelicans', 'NOP', 4, 0, 8, 'Made Shot', 'Putback Layup Shot', '2PT Field Goal', 'Restricted Area', 'Center(C)', 'Less Than 8 ft.', 0, 0, 0, 1, datetime.date(2025, 3, 15), 'SAS', 'NOP', 'NOP @ SAS', 'Regular Season')\n",
      "('0022401029', 685, 203468, 'CJ McCollum', 1610612740, 'New Orleans Pelicans', 'NOP', 4, 0, 3, 'Made Shot', 'Driving Layup Shot', '2PT Field Goal', 'Restricted Area', 'Center(C)', 'Less Than 8 ft.', 2, 18, 17, 1, datetime.date(2025, 3, 23), 'DET', 'NOP', 'NOP @ DET', 'Regular Season')\n",
      "('0022400923', 738, 1630631, 'Jose Alvarado', 1610612740, 'New Orleans Pelicans', 'NOP', 4, 0, 5, 'Missed Shot', 'Jump Shot', '3PT Field Goal', 'Above the Break 3', 'Right Side Center(RC)', '24+ ft.', 25, 174, 193, 0, datetime.date(2025, 3, 9), 'NOP', 'MEM', 'NOP vs. MEM', 'Regular Season')\n",
      "('0022401085', 701, 1631232, 'Keion Brooks Jr.', 1610612740, 'New Orleans Pelicans', 'NOP', 4, 0, 5, 'Made Shot', 'Cutting Layup Shot', '2PT Field Goal', 'Restricted Area', 'Center(C)', 'Less Than 8 ft.', 2, 22, 12, 1, datetime.date(2025, 3, 30), 'NOP', 'CHA', 'NOP vs. CHA', 'Regular Season')\n",
      "('0022400923', 740, 203482, 'Kelly Olynyk', 1610612740, 'New Orleans Pelicans', 'NOP', 4, 0, 0, 'Missed Shot', 'Jump Shot', '3PT Field Goal', 'Above the Break 3', 'Left Side Center(LC)', '24+ ft.', 25, -222, 128, 0, datetime.date(2025, 3, 9), 'NOP', 'MEM', 'NOP vs. MEM', 'Regular Season')\n",
      "('0022400973', 674, 1630530, 'Trey Murphy III', 1610612740, 'New Orleans Pelicans', 'NOP', 4, 0, 0, 'Missed Shot', 'Jump Shot', '3PT Field Goal', 'Above the Break 3', 'Right Side Center(RC)', '24+ ft.', 32, 153, 292, 0, datetime.date(2025, 3, 15), 'SAS', 'NOP', 'NOP @ SAS', 'Regular Season')\n",
      "('0022400366', 710, 1641764, 'Brandin Podziemski', 1610612744, 'Golden State Warriors', 'GSW', 4, 0, 0, 'Made Shot', 'Driving Finger Roll Layup Shot', '2PT Field Goal', 'Restricted Area', 'Center(C)', 'Less Than 8 ft.', 0, -4, 5, 1, datetime.date(2024, 12, 19), 'MEM', 'GSW', 'GSW @ MEM', 'Regular Season')\n",
      "('0022401204', 633, 1641764, 'Brandin Podziemski', 1610612744, 'Golden State Warriors', 'GSW', 4, 0, 2, 'Missed Shot', 'Jump Shot', '3PT Field Goal', 'Above the Break 3', 'Right Side Center(RC)', '24+ ft.', 24, 228, 100, 0, datetime.date(2024, 12, 11), 'HOU', 'GSW', 'GSW @ HOU', 'Regular Season')\n",
      "('0022400403', 673, 1627741, 'Buddy Hield', 1610612744, 'Golden State Warriors', 'GSW', 4, 0, 7, 'Missed Shot', 'Jump Shot', '3PT Field Goal', 'Above the Break 3', 'Center(C)', '24+ ft.', 26, -82, 254, 0, datetime.date(2024, 12, 23), 'GSW', 'IND', 'GSW vs. IND', 'Regular Season')\n",
      "('0022400058', 751, 1630541, 'Moses Moody', 1610612744, 'Golden State Warriors', 'GSW', 4, 0, 7, 'Missed Shot', 'Jump Shot', '3PT Field Goal', 'Above the Break 3', 'Left Side Center(LC)', '24+ ft.', 25, -145, 209, 0, datetime.date(2024, 12, 3), 'DEN', 'GSW', 'GSW @ DEN', 'Regular Season')\n",
      "('0022400408', 650, 201939, 'Stephen Curry', 1610612744, 'Golden State Warriors', 'GSW', 4, 0, 7, 'Made Shot', 'Jump Shot', '3PT Field Goal', 'Above the Break 3', 'Left Side Center(LC)', '24+ ft.', 31, -125, 285, 1, datetime.date(2024, 12, 25), 'GSW', 'LAL', 'GSW vs. LAL', 'Regular Season')\n",
      "('0022400439', 675, 1641715, 'Cam Whitmore', 1610612745, 'Houston Rockets', 'HOU', 4, 0, 6, 'Made Shot', 'Pullup Jump shot', '3PT Field Goal', 'Above the Break 3', 'Right Side Center(RC)', '24+ ft.', 27, 104, 251, 1, datetime.date(2024, 12, 29), 'HOU', 'MIA', 'HOU vs. MIA', 'Regular Season')\n",
      "('0022400439', 681, 1628415, 'Dillon Brooks', 1610612745, 'Houston Rockets', 'HOU', 4, 0, 1, 'Made Shot', 'Pullup Jump shot', '3PT Field Goal', 'Above the Break 3', 'Right Side Center(RC)', '24+ ft.', 29, 145, 253, 1, datetime.date(2024, 12, 29), 'HOU', 'MIA', 'HOU vs. MIA', 'Regular Season')\n",
      "('0022400422', 640, 1627832, 'Fred VanVleet', 1610612745, 'Houston Rockets', 'HOU', 4, 0, 1, 'Missed Shot', 'Jump Shot', '3PT Field Goal', 'Above the Break 3', 'Right Side Center(RC)', '24+ ft.', 26, 190, 180, 0, datetime.date(2024, 12, 27), 'HOU', 'MIN', 'HOU vs. MIN', 'Regular Season')\n",
      "('0022400332', 710, 1631095, 'Jabari Smith Jr.', 1610612745, 'Houston Rockets', 'HOU', 4, 0, 3, 'Missed Shot', 'Pullup Jump shot', '3PT Field Goal', 'Above the Break 3', 'Right Side Center(RC)', '24+ ft.', 28, 217, 184, 0, datetime.date(2024, 12, 5), 'GSW', 'HOU', 'HOU @ GSW', 'Regular Season')\n",
      "('0022401230', 724, 1630224, 'Jalen Green', 1610612745, 'Houston Rockets', 'HOU', 4, 0, 0, 'Missed Shot', 'Pullup Jump shot', '3PT Field Goal', 'Above the Break 3', 'Left Side Center(LC)', '24+ ft.', 25, -218, 132, 0, datetime.date(2024, 12, 14), 'OKC', 'HOU', 'HOU @ OKC', 'Regular Season')\n",
      "('0022400059', 706, 1642263, 'Reed Sheppard', 1610612745, 'Houston Rockets', 'HOU', 4, 0, 9, 'Missed Shot', 'Running Jump Shot', '3PT Field Goal', 'Above the Break 3', 'Left Side Center(LC)', '24+ ft.', 26, -217, 157, 0, datetime.date(2024, 12, 3), 'SAC', 'HOU', 'HOU @ SAC', 'Regular Season')\n",
      "('0022400410', 650, 1629614, 'Andrew Nembhard', 1610612754, 'Indiana Pacers', 'IND', 4, 0, 3, 'Made Shot', 'Driving Finger Roll Layup Shot', '2PT Field Goal', 'Restricted Area', 'Center(C)', 'Less Than 8 ft.', 2, 26, 11, 1, datetime.date(2024, 12, 26), 'IND', 'OKC', 'IND vs. OKC', 'Regular Season')\n",
      "('0022400349', 673, 1631097, 'Bennedict Mathurin', 1610612754, 'Indiana Pacers', 'IND', 4, 0, 3, 'Missed Shot', 'Pullup Jump shot', '3PT Field Goal', 'Above the Break 3', 'Center(C)', '24+ ft.', 30, 18, 300, 0, datetime.date(2024, 12, 8), 'IND', 'CHA', 'IND vs. CHA', 'Regular Season')\n",
      "('0022400410', 644, 1627783, 'Pascal Siakam', 1610612754, 'Indiana Pacers', 'IND', 4, 0, 9, 'Made Shot', 'Jump Shot', '3PT Field Goal', 'Above the Break 3', 'Center(C)', '24+ ft.', 25, 61, 252, 1, datetime.date(2024, 12, 26), 'IND', 'OKC', 'IND vs. OKC', 'Regular Season')\n",
      "('0022400437', 645, 1631245, 'Quenton Jackson', 1610612754, 'Indiana Pacers', 'IND', 4, 0, 6, 'Missed Shot', 'Driving Layup Shot', '2PT Field Goal', 'Restricted Area', 'Center(C)', 'Less Than 8 ft.', 3, 27, 29, 0, datetime.date(2024, 12, 29), 'BOS', 'IND', 'IND @ BOS', 'Regular Season')\n"
     ]
    },
    {
     "name": "stderr",
     "output_type": "stream",
     "text": [
      "\n"
     ]
    }
   ],
   "source": [
    "team_instance = StageTeamShotData()\n",
    "# Loop over the list of teams determined by stack argument\n",
    "for team in team_stack[stack]:\n",
    "    # Loop over Regular Season and Playoffs\n",
    "    for season in StageTeamShotData.allowed_season_segments:\n",
    "        # Set current team and season for instance\n",
    "        team_instance.team = team\n",
    "        team_instance.season_segment = season\n",
    "        team_instance.clutch_time_setting = 'Last 10 Seconds'\n",
    "        team_instance.month_setting = 'December'\n",
    "        team_instance.stage_shots()\n",
    "        # Perform a check to see if we are at the end of the player/season iteration, if so, execute testing query.\n",
    "        if team_stack[stack].index(team) == 2 and StageTeamShotData.allowed_season_segments.index(season) == 1:\n",
    "            team_instance.testing()"
   ]
  },
  {
   "cell_type": "code",
   "execution_count": 10,
   "metadata": {},
   "outputs": [],
   "source": [
    "DatabaseControl.connection.close()"
   ]
  },
  {
   "cell_type": "code",
   "execution_count": null,
   "metadata": {},
   "outputs": [],
   "source": []
  }
 ],
 "metadata": {
  "kernelspec": {
   "display_name": "nba-env",
   "language": "python",
   "name": "python3"
  },
  "language_info": {
   "codemirror_mode": {
    "name": "ipython",
    "version": 3
   },
   "file_extension": ".py",
   "mimetype": "text/x-python",
   "name": "python",
   "nbconvert_exporter": "python",
   "pygments_lexer": "ipython3",
   "version": "3.13.2"
  }
 },
 "nbformat": 4,
 "nbformat_minor": 2
}
